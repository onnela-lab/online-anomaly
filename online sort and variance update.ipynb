{
 "cells": [
  {
   "cell_type": "code",
   "execution_count": 1,
   "metadata": {},
   "outputs": [],
   "source": [
    "import numpy as np\n",
    "from scipy.stats import norm"
   ]
  },
  {
   "cell_type": "code",
   "execution_count": 6,
   "metadata": {},
   "outputs": [
    {
     "name": "stdout",
     "output_type": "stream",
     "text": [
      "[4, 5]\n",
      "[3, 4, 5]\n",
      "[1, 3, 4, 5]\n",
      "[1, 2, 3, 4, 5]\n",
      "[1, 2, 3, 4, 5, 8]\n",
      "[1, 2, 3, 4, 5, 7, 8]\n",
      "[1, 2, 3, 4, 4, 5, 7, 8]\n"
     ]
    }
   ],
   "source": [
    "class SortTree:\n",
    "  def __init__(self, value):\n",
    "    self.left = None\n",
    "    self.value = value\n",
    "    self.right = None\n",
    "  def insert_val(self, _value):\n",
    "    if _value < self.value:\n",
    "      if self.left is None:\n",
    "        self.left = SortTree(_value)\n",
    "      else:\n",
    "        self.left.insert_val(_value)\n",
    "    else:\n",
    "      if self.right is None:\n",
    "        self.right = SortTree(_value)\n",
    "      else:\n",
    "        self.right.insert_val(_value)\n",
    "\n",
    "def display_sort(_node):\n",
    "  return list(filter(None, [i for b in [display_sort(_node.left) if isinstance(_node.left, SortTree) \n",
    "              else [getattr(_node.left, 'value', None)], [_node.value], display_sort(_node.right) \n",
    "              if isinstance(_node.right, SortTree) else [getattr(_node.right, 'value', None)]] for i in b]))\n",
    "\n",
    "tree = SortTree(4)\n",
    "for i in [5, 3, 1, 2, 8, 7, 4]:\n",
    "  tree.insert_val(i)\n",
    "  print(display_sort(tree))\n",
    "\n"
   ]
  },
  {
   "cell_type": "code",
   "execution_count": 7,
   "metadata": {},
   "outputs": [
    {
     "name": "stdout",
     "output_type": "stream",
     "text": [
      "[0, 1]\n",
      "[1, 2, 0]\n",
      "[2, 3, 1, 0]\n",
      "[3, 4, 2, 0, 1]\n",
      "[3, 4, 2, 0, 1, 5]\n",
      "[3, 4, 2, 0, 1, 6, 5]\n",
      "[3, 5, 2, 0, 1, 7, 6, 4]\n"
     ]
    }
   ],
   "source": [
    "class ArgSortTree:\n",
    "  def __init__(self, value, index):\n",
    "    self.left = [None,None]\n",
    "    self.right = [None,None]\n",
    "    self.value_index = [value,index]\n",
    "  def insert_val(self, _value, _index):\n",
    "    if _value < self.value_index[0]:\n",
    "      if self.left ==[None,None]:\n",
    "        self.left = ArgSortTree(_value,_index)\n",
    "      else:\n",
    "        self.left.insert_val(_value, _index)\n",
    "    else:\n",
    "      if self.right == [None,None]:\n",
    "        self.right = ArgSortTree(_value,_index)\n",
    "      else:\n",
    "        self.right.insert_val(_value,_index)\n",
    "\n",
    "def display_argsort(_node):\n",
    "  return list(filter(None, [i for b in [display_argsort(_node.left) if isinstance(_node.left, ArgSortTree) \n",
    "            else [getattr(_node.left, 'value', None)], [_node.value_index], display_argsort(_node.right) \n",
    "            if isinstance(_node.right, ArgSortTree) else [getattr(_node.right, 'value', None)]] for i in b]))\n",
    "\n",
    "j=0\n",
    "tree = ArgSortTree(4,j)\n",
    "for i in [5, 3, 1, 2, 8, 7, 4]:\n",
    "  j = j+1\n",
    "  tree.insert_val(i,j)\n",
    "  sorted_index = display_argsort(tree)\n",
    "  pos = [a[1] for a in sorted_index]\n",
    "  rank = [0]*(j+1)\n",
    "  for k in range(len(pos)):\n",
    "    rank[pos[k]]= k\n",
    "  print(rank)"
   ]
  },
  {
   "cell_type": "code",
   "execution_count": 48,
   "metadata": {},
   "outputs": [],
   "source": [
    "class OnlineSort:\n",
    "  def __init__(self, value, temporal_index,day_of_week):\n",
    "    self.value = value\n",
    "    self.temporal_index = temporal_index\n",
    "    self.day_of_week = day_of_week\n",
    "\n",
    "def is_larger(_OnlineSort1,_OnlineSort2):\n",
    "  if _OnlineSort1.value>_OnlineSort2.value:\n",
    "    return True\n",
    "  else:\n",
    "    return False\n",
    "\n",
    "def initialize_data(raw_data): # data of at least first two weeks\n",
    "  online_list = []\n",
    "  online_eps = []\n",
    "  sum_ = [0,0,0,0,0,0,0]\n",
    "  day_ = [0,0,0,0,0,0,0]\n",
    "  y_list = []\n",
    "  starting_mean = np.mean(raw_data)\n",
    "  for i in range(len(raw_data)):\n",
    "    if i<4:\n",
    "      y = raw_data[i] - starting_mean\n",
    "    else:\n",
    "      y = raw_data[i]-0.4*raw_data[i-1]-0.3*raw_data[i-2]-0.2*raw_data[i-3]-0.1*raw_data[i-4]\n",
    "    y_list.append(y)\n",
    "    item = OnlineSort(raw_data[i],i,i%7)  ## later consider missing days\n",
    "    online_list.append(item)\n",
    "    sum_[i%7] = sum_[i%7] + y\n",
    "    day_[i%7] = day_[i%7] + 1\n",
    "  for i in range(len(raw_data)):\n",
    "    item = OnlineSort(y_list[i]-sum_[i%7]/day_[i%7], i, i%7)\n",
    "    online_eps.append(item)\n",
    "  new_data = {\"data\":online_list,\"sum\":sum_,\"days\":day_}\n",
    "  return {\"new_data\":new_data,\"online_eps\":online_eps}\n",
    "  \n",
    "def gather_data(old_data,new_obs): ## in temporal order (after 2 weeks)\n",
    "  n = len(old_data['data'])\n",
    "  mu = 0.4*old_data['data'][n-1].value+0.3*old_data['data'][n-2].value+0.2*old_data['data'][n-3].value+0.1*old_data['data'][n-4].value\n",
    "  new_y = new_obs.value - mu\n",
    "  new_sum = old_data['sum'][new_obs.day_of_week] + new_y\n",
    "  new_s = new_sum/(old_data['days'][new_obs.day_of_week]+1)\n",
    "  delta = new_s - old_data['sum'][new_obs.day_of_week]/old_data['days'][new_obs.day_of_week]\n",
    "  new_eps = OnlineSort(new_y - new_s,new_obs.temporal_index,new_obs.day_of_week)\n",
    "  new_data = old_data\n",
    "  new_data['data'] = old_data['data'].append(new_obs)\n",
    "  new_data['sum'][new_obs.day_of_week] = new_sum\n",
    "  new_data['days'][new_obs.day_of_week] = new_data['days'][new_obs.day_of_week]+1\n",
    "  return {\"delta\":delta,\"new_eps\":new_eps,\"new_data\":new_data}\n",
    "  \n",
    "def argsort_OL(online_eps):  ## used once in the beginning but not online part\n",
    "  value_list = []\n",
    "  for i in range(len(online_eps)):\n",
    "    value_list.append(online_eps[i].value)\n",
    "  rank = np.argsort(np.array(value_list))\n",
    "  sorted_eps = []\n",
    "  for i in range(len(online_eps)):\n",
    "    sorted_eps.append(online_eps[rank[i]])\n",
    "  return sorted_eps\n",
    "\n",
    "def split_update_eps(sorted_eps,new_eps,delta):\n",
    "  day_eps = []\n",
    "  rest_eps = []\n",
    "  for i in range(len(sorted_eps)):\n",
    "    if sorted_eps[i].day_of_week == new_eps.day_of_week:\n",
    "      sorted_eps[i].value = sorted_eps[i].value - delta\n",
    "      day_eps.append(sorted_eps[i])\n",
    "    else:\n",
    "      rest_eps.append(sorted_eps[i])\n",
    "  ## insert new_eps in day_eps\n",
    "  old_len = len(day_eps)\n",
    "  for i in range(len(day_eps)):\n",
    "    if is_larger(day_eps[i],new_eps):\n",
    "      day_eps.insert(i,new_eps)\n",
    "      break\n",
    "  if len(day_eps)==old_len:\n",
    "    day_eps.insert(old_len,new_eps)\n",
    "  ## merge day_eps into rest_eps\n",
    "  new_sorted_eps = [OnlineSort(0,0,0)]*(len(day_eps)+len(rest_eps))\n",
    "  j = 0\n",
    "  final_index = 0\n",
    "  new_rank = -1\n",
    "  for i in range(len(day_eps)):\n",
    "    while(is_larger(day_eps[i],rest_eps[j])):\n",
    "      new_sorted_eps[final_index] = rest_eps[j]\n",
    "      j = j + 1\n",
    "      final_index = final_index + 1\n",
    "    new_sorted_eps[final_index] = day_eps[i]\n",
    "    if day_eps[i].temporal_index == new_eps.temporal_index:\n",
    "      new_rank = final_index\n",
    "    final_index = final_index + 1\n",
    "  if len(new_sorted_eps)>final_index:\n",
    "    for i in range(len(new_sorted_eps)-final_index):\n",
    "      new_sorted_eps[final_index+i]=rest_eps[j]\n",
    "      j = j + 1\n",
    "  return {\"new_sorted_eps\":new_sorted_eps,\"rank\":new_rank}"
   ]
  },
  {
   "cell_type": "code",
   "execution_count": 23,
   "metadata": {},
   "outputs": [],
   "source": [
    "## this is a test case\n",
    "raw_data = np.random.normal(size=23)\n",
    "processed_data = initialize_data(raw_data)\n",
    "old_data = processed_data[\"new_data\"]\n",
    "online_eps = processed_data[\"online_eps\"]"
   ]
  },
  {
   "cell_type": "code",
   "execution_count": 24,
   "metadata": {},
   "outputs": [
    {
     "data": {
      "text/plain": [
       "{'data': [<__main__.OnlineSort at 0x21b5db65908>,\n",
       "  <__main__.OnlineSort at 0x21b5db65fd0>,\n",
       "  <__main__.OnlineSort at 0x21b5db65978>,\n",
       "  <__main__.OnlineSort at 0x21b5db65f98>,\n",
       "  <__main__.OnlineSort at 0x21b5db65dd8>,\n",
       "  <__main__.OnlineSort at 0x21b5db65588>,\n",
       "  <__main__.OnlineSort at 0x21b5db65898>,\n",
       "  <__main__.OnlineSort at 0x21b5db65860>,\n",
       "  <__main__.OnlineSort at 0x21b5db65550>,\n",
       "  <__main__.OnlineSort at 0x21b5db65400>,\n",
       "  <__main__.OnlineSort at 0x21b5db65470>,\n",
       "  <__main__.OnlineSort at 0x21b5db65da0>,\n",
       "  <__main__.OnlineSort at 0x21b5db65940>,\n",
       "  <__main__.OnlineSort at 0x21b5db65ef0>,\n",
       "  <__main__.OnlineSort at 0x21b5db65080>,\n",
       "  <__main__.OnlineSort at 0x21b5db65c50>,\n",
       "  <__main__.OnlineSort at 0x21b5db654a8>,\n",
       "  <__main__.OnlineSort at 0x21b5db652e8>,\n",
       "  <__main__.OnlineSort at 0x21b5db65d30>,\n",
       "  <__main__.OnlineSort at 0x21b5db65cf8>,\n",
       "  <__main__.OnlineSort at 0x21b5db659b0>,\n",
       "  <__main__.OnlineSort at 0x21b5db65320>,\n",
       "  <__main__.OnlineSort at 0x21b5db65be0>],\n",
       " 'sum': [0.414876349722905,\n",
       "  -1.236706146527491,\n",
       "  -1.1379073695297155,\n",
       "  0.6060059226140014,\n",
       "  1.022218379720847,\n",
       "  -2.4772202602335707,\n",
       "  3.0884210767442593],\n",
       " 'days': [4, 4, 3, 3, 3, 3, 3]}"
      ]
     },
     "execution_count": 24,
     "metadata": {},
     "output_type": "execute_result"
    }
   ],
   "source": [
    "old_data"
   ]
  },
  {
   "cell_type": "code",
   "execution_count": 25,
   "metadata": {},
   "outputs": [
    {
     "data": {
      "text/plain": [
       "[<__main__.OnlineSort at 0x21b5db650b8>,\n",
       " <__main__.OnlineSort at 0x21b5db65ba8>,\n",
       " <__main__.OnlineSort at 0x21b5db65278>,\n",
       " <__main__.OnlineSort at 0x21b5db65a20>,\n",
       " <__main__.OnlineSort at 0x21b5db65a90>,\n",
       " <__main__.OnlineSort at 0x21b5db65438>,\n",
       " <__main__.OnlineSort at 0x21b5db652b0>,\n",
       " <__main__.OnlineSort at 0x21b5db65518>,\n",
       " <__main__.OnlineSort at 0x21b5db655c0>,\n",
       " <__main__.OnlineSort at 0x21b5db65c18>,\n",
       " <__main__.OnlineSort at 0x21b5db653c8>,\n",
       " <__main__.OnlineSort at 0x21b5db65b70>,\n",
       " <__main__.OnlineSort at 0x21b5db658d0>,\n",
       " <__main__.OnlineSort at 0x21b5db65240>,\n",
       " <__main__.OnlineSort at 0x21b5db65160>,\n",
       " <__main__.OnlineSort at 0x21b5db659e8>,\n",
       " <__main__.OnlineSort at 0x21b5db650f0>,\n",
       " <__main__.OnlineSort at 0x21b5db65b00>,\n",
       " <__main__.OnlineSort at 0x21b5db654e0>,\n",
       " <__main__.OnlineSort at 0x21b5db657f0>,\n",
       " <__main__.OnlineSort at 0x21b5db65d68>,\n",
       " <__main__.OnlineSort at 0x21b5db651d0>,\n",
       " <__main__.OnlineSort at 0x21b5db65828>]"
      ]
     },
     "execution_count": 25,
     "metadata": {},
     "output_type": "execute_result"
    }
   ],
   "source": [
    "sorted_eps = argsort_OL(online_eps)\n",
    "sorted_eps"
   ]
  },
  {
   "cell_type": "code",
   "execution_count": 27,
   "metadata": {},
   "outputs": [
    {
     "data": {
      "text/plain": [
       "<__main__.OnlineSort at 0x21b5db702e8>"
      ]
     },
     "execution_count": 27,
     "metadata": {},
     "output_type": "execute_result"
    }
   ],
   "source": [
    "new_obs = OnlineSort(1.2,23,2)\n",
    "new_info = gather_data(old_data,new_obs)\n",
    "delta = new_info[\"delta\"]\n",
    "new_eps = new_info[\"new_eps\"]\n",
    "new_data = new_info[\"new_data\"]"
   ]
  },
  {
   "cell_type": "code",
   "execution_count": 49,
   "metadata": {},
   "outputs": [],
   "source": [
    "outcome = split_update_eps(sorted_eps,new_eps,delta)\n",
    "new_sorted_eps = outcome[\"new_sorted_eps\"]\n",
    "new_rank = outcome[\"rank\"]"
   ]
  },
  {
   "cell_type": "code",
   "execution_count": 50,
   "metadata": {},
   "outputs": [
    {
     "data": {
      "text/plain": [
       "20"
      ]
     },
     "execution_count": 50,
     "metadata": {},
     "output_type": "execute_result"
    }
   ],
   "source": [
    "new_rank"
   ]
  },
  {
   "cell_type": "code",
   "execution_count": 51,
   "metadata": {},
   "outputs": [
    {
     "data": {
      "text/plain": [
       "24"
      ]
     },
     "execution_count": 51,
     "metadata": {},
     "output_type": "execute_result"
    }
   ],
   "source": [
    "len(new_sorted_eps)"
   ]
  },
  {
   "cell_type": "code",
   "execution_count": 5,
   "metadata": {},
   "outputs": [],
   "source": [
    "## variance update\n",
    "## first apply split_update_eps on every feature, save all the ranks in one vector [ranks]\n",
    "def cov2corr(cov):\n",
    "  cov = np.asanyarray(cov)\n",
    "  std_ = np.sqrt(np.diag(cov))\n",
    "  corr = cov / np.outer(std_, std_)\n",
    "  return corr\n",
    "\n",
    "def var_update(ranks,n,old_var):  ## n means: this is the nth value since the very beginning \n",
    "  eps_tilde =  norm.ppf(ranks/(n+1))\n",
    "  new_var = cov2corr((n-1)/n*old_var+1/n*np.outer(eps_tilde,eps_tilde))\n",
    "  return new_var\n",
    "\n",
    "def test_stat(ranks,n,new_var):\n",
    "  eps_tilde =  norm.ppf(ranks/(n+1))\n",
    "  stat = eps_tilde.dot(new_var).dot(eps_tilde)\n",
    "  return stat"
   ]
  },
  {
   "cell_type": "code",
   "execution_count": null,
   "metadata": {},
   "outputs": [],
   "source": [
    "## combine everything\n",
    "## assume we have a dictionary to hold all the raw data {\"feature1\":[],\"feature2\":[],...}\n",
    "##                                     all the sorted eps\n",
    "## now we observe a new input [a,b,c,d,e] (for example, 5 features)\n",
    "## let m be the number of features\n",
    "\n",
    "inputs = [-2,1,2,0,1]\n",
    "sigma = cov2corr(np.eye(5))  ## old empirical covariance matrix\n",
    "n = 23  ## 23rd day since beginning\n",
    "k = 2   ## second day of the week\n",
    "ranks = []\n",
    "for i in range(m):\n",
    "  ## convert the raw input to onlinesort class\n",
    "  new_obs = OnlineSort(inputs[i],23,2)\n",
    "  new_info = gather_data(dict_data[str(i)],new_obs)\n",
    "  dict_data[str(i)] = new_info[\"new_data\"]\n",
    "  outcome = split_update_eps(dict_eps[str(i)],new_info[\"new_eps\"],new_info[\"delta\"])\n",
    "  dict_eps[str(i)] =  = outcome[\"new_sorted_eps\"]\n",
    "  ranks.append(outcome[\"rank\"])\n",
    "  \n",
    "sigma = var_update(ranks,n,sigma)\n",
    "stat =  test_stat(ranks,n,sigma)\n",
    "## do percentile correction"
   ]
  }
 ],
 "metadata": {
  "kernelspec": {
   "display_name": "Python 3",
   "language": "python",
   "name": "python3"
  },
  "language_info": {
   "codemirror_mode": {
    "name": "ipython",
    "version": 3
   },
   "file_extension": ".py",
   "mimetype": "text/x-python",
   "name": "python",
   "nbconvert_exporter": "python",
   "pygments_lexer": "ipython3",
   "version": "3.6.6"
  }
 },
 "nbformat": 4,
 "nbformat_minor": 2
}
